{
 "cells": [
  {
   "cell_type": "code",
   "execution_count": 1,
   "id": "85b3fd49-309e-46e2-a948-a28e78c42ccd",
   "metadata": {},
   "outputs": [],
   "source": [
    "import pandas as pd\n",
    "import matplotlib.pyplot as plt\n",
    "from sklearn.ensemble import RandomForestClassifier"
   ]
  },
  {
   "cell_type": "code",
   "execution_count": 3,
   "id": "c51cce8c-4e84-4e34-8e56-b5726d3f100b",
   "metadata": {},
   "outputs": [
    {
     "name": "stdout",
     "output_type": "stream",
     "text": [
      "Todo está listo\n"
     ]
    }
   ],
   "source": [
    "print(\"Todo está listo\")"
   ]
  },
  {
   "cell_type": "code",
   "execution_count": null,
   "id": "62955ed9-c72e-4063-9439-2912eee7d892",
   "metadata": {},
   "outputs": [],
   "source": []
  }
 ],
 "metadata": {
  "kernelspec": {
   "display_name": "Python (venv)",
   "language": "python",
   "name": "venv"
  },
  "language_info": {
   "codemirror_mode": {
    "name": "ipython",
    "version": 3
   },
   "file_extension": ".py",
   "mimetype": "text/x-python",
   "name": "python",
   "nbconvert_exporter": "python",
   "pygments_lexer": "ipython3",
   "version": "3.11.2"
  }
 },
 "nbformat": 4,
 "nbformat_minor": 5
}
